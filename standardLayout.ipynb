{
 "cells": [
  {
   "cell_type": "code",
   "execution_count": null,
   "metadata": {
    "collapsed": false
   },
   "outputs": [],
   "source": [
    "# Standard header we will need for yur ipython notebook files.\n",
    "# Random allows us to use shuffle and random, the most useful\n",
    "# functions for our simulations.\n",
    "# Matplotlib allows us to display results over changing parameters.\n",
    "import random as rand\n",
    "import matplotlib.pyplot as plt\n",
    "%matplotlib inline\n",
    "\n",
    "# This is where you'll set up your simulation.\n",
    "# An input parameter will always be simulation, the number of times\n",
    "# we want to simulate a possible event outcome.\n",
    "# Other parameters will depend on the probability you're \n",
    "# trying to calculate.\n",
    "def function(sim, other):\n",
    "    # We're calculating the probability that something happens\n",
    "    # by simulating some number of events, and counting how many\n",
    "    # times the event we're looking for happens.\n",
    "    count = 0\n",
    "    \n",
    "    # All simulations will have a for loop like this. \n",
    "    # We want to simulate sim events, so we will need to \n",
    "    # execute the same peice of code sim times.\n",
    "    for i in range(0, sim):\n",
    "        # It's helpful to see how far we've gone in the \n",
    "        # simulation, so we know how close we are to getting\n",
    "        # an answer! The following two lines update us every\n",
    "        # 10% of the simulation (0%, 10%, ... , 90%)\n",
    "        if (i % (sim / 10)) == 0:\n",
    "            print(str(100 * i / sim) + '%')\n",
    "\n",
    "        # Simulate a single event\n",
    "        # ...\n",
    "        \n",
    "        # If the event matches what we are looking for,\n",
    "        # we should increment count.\n",
    "        if someProperty:\n",
    "            count++\n",
    "        \n",
    "    # We want to report the proportion of events that\n",
    "    # had the property we were looking for. However, we have\n",
    "    # to be careful when dividing integers, so we convert\n",
    "    # to floats before division.\n",
    "    return float(count) / float(sim)"
   ]
  },
  {
   "cell_type": "code",
   "execution_count": null,
   "metadata": {
    "collapsed": false
   },
   "outputs": [],
   "source": []
  },
  {
   "cell_type": "code",
   "execution_count": null,
   "metadata": {
    "collapsed": false
   },
   "outputs": [],
   "source": []
  },
  {
   "cell_type": "code",
   "execution_count": null,
   "metadata": {
    "collapsed": false
   },
   "outputs": [],
   "source": []
  },
  {
   "cell_type": "code",
   "execution_count": null,
   "metadata": {
    "collapsed": false
   },
   "outputs": [],
   "source": []
  },
  {
   "cell_type": "code",
   "execution_count": null,
   "metadata": {
    "collapsed": false
   },
   "outputs": [],
   "source": []
  },
  {
   "cell_type": "code",
   "execution_count": null,
   "metadata": {
    "collapsed": false
   },
   "outputs": [],
   "source": []
  },
  {
   "cell_type": "code",
   "execution_count": null,
   "metadata": {
    "collapsed": false
   },
   "outputs": [],
   "source": []
  },
  {
   "cell_type": "code",
   "execution_count": null,
   "metadata": {
    "collapsed": false
   },
   "outputs": [],
   "source": []
  },
  {
   "cell_type": "code",
   "execution_count": null,
   "metadata": {
    "collapsed": false
   },
   "outputs": [],
   "source": []
  },
  {
   "cell_type": "code",
   "execution_count": null,
   "metadata": {
    "collapsed": false
   },
   "outputs": [],
   "source": []
  },
  {
   "cell_type": "code",
   "execution_count": null,
   "metadata": {
    "collapsed": true
   },
   "outputs": [],
   "source": []
  },
  {
   "cell_type": "code",
   "execution_count": null,
   "metadata": {
    "collapsed": true
   },
   "outputs": [],
   "source": []
  }
 ],
 "metadata": {
  "kernelspec": {
   "display_name": "Python 2",
   "language": "python",
   "name": "python2"
  },
  "language_info": {
   "codemirror_mode": {
    "name": "ipython",
    "version": 2
   },
   "file_extension": ".py",
   "mimetype": "text/x-python",
   "name": "python",
   "nbconvert_exporter": "python",
   "pygments_lexer": "ipython2",
   "version": "2.7.10"
  }
 },
 "nbformat": 4,
 "nbformat_minor": 0
}
